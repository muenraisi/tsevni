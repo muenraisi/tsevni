{
 "cells": [
  {
   "cell_type": "code",
   "execution_count": 1,
   "metadata": {},
   "outputs": [
    {
     "name": "stdout",
     "output_type": "stream",
     "text": [
      "提示：当前环境pandas版本为0.25，get_price与get_fundamentals_continuously接口panel参数将固定为False\n",
      "注意：0.25以上版本pandas不支持panel，如使用该数据结构和相关函数请注意修改\n",
      "auth success \n"
     ]
    }
   ],
   "source": [
    "import warnings\n",
    "warnings.filterwarnings(\"ignore\")\n",
    "\n",
    "from jqdatasdk import *\n",
    "auth('18810883096', 'Ww19930921')\n",
    "# 查询是否连接成功\n",
    "is_auth = is_auth()"
   ]
  },
  {
   "cell_type": "code",
   "execution_count": 4,
   "metadata": {},
   "outputs": [
    {
     "name": "stdout",
     "output_type": "stream",
     "text": [
      "['000708.XSHE', '000709.XSHE', '000717.XSHE', '000761.XSHE', '000778.XSHE', '000825.XSHE', '000898.XSHE', '000932.XSHE', '000959.XSHE', '002075.XSHE', '002110.XSHE', '002318.XSHE', '002443.XSHE', '002478.XSHE', '002756.XSHE', '600010.XSHG', '600019.XSHG', '600022.XSHG', '600117.XSHG', '600126.XSHG', '600231.XSHG', '600282.XSHG', '600307.XSHG', '600399.XSHG', '600507.XSHG', '600569.XSHG', '600581.XSHG', '600782.XSHG', '600808.XSHG', '601003.XSHG', '601005.XSHG', '603878.XSHG', '603995.XSHG']\n"
     ]
    }
   ],
   "source": [
    "# 获取计算机/互联网行业的成分股\n",
    "stocks = get_industry_stocks('801040')\n",
    "print(stocks)"
   ]
  },
  {
   "cell_type": "code",
   "execution_count": 12,
   "metadata": {},
   "outputs": [
    {
     "name": "stdout",
     "output_type": "stream",
     "text": [
      "000708.XSHE ZXTG\n",
      "000709.XSHE HGGF\n",
      "000717.XSHE SGSS\n",
      "000761.XSHE BGBC\n",
      "000778.XSHE XXZG\n",
      "000825.XSHE TGBX\n",
      "000898.XSHE AGGF\n",
      "000932.XSHE HLGT\n",
      "000959.XSHE SGGF\n",
      "002075.XSHE SGGF\n",
      "002110.XSHE SGMG\n",
      "002318.XSHE JLTC\n",
      "002443.XSHE JZGD\n",
      "002478.XSHE CBGF\n",
      "002756.XSHE YXCL\n",
      "600010.XSHG BGGF\n",
      "600019.XSHG BGGF\n",
      "600022.XSHG SDGT\n",
      "600117.XSHG XNTG\n",
      "600126.XSHG HGGF\n",
      "600231.XSHG LGGF\n",
      "600282.XSHG NGGF\n",
      "600307.XSHG JGHX\n",
      "600399.XSHG STFG\n",
      "600507.XSHG FDTG\n",
      "600569.XSHG AYGT\n",
      "600581.XSHG BYGT\n",
      "600782.XSHG XGGF\n",
      "600808.XSHG MGGF\n",
      "601003.XSHG LGGF\n",
      "601005.XSHG ZQGT\n",
      "603878.XSHG WJBX\n",
      "603995.XSHG YJGF\n"
     ]
    }
   ],
   "source": [
    "import matplotlib.pyplot as plt\n",
    "for stock in stocks:\n",
    "    print(stock,get_security_info(stock).name)"
   ]
  },
  {
   "cell_type": "code",
   "execution_count": null,
   "metadata": {},
   "outputs": [],
   "source": []
  }
 ],
 "metadata": {
  "kernelspec": {
   "display_name": "Python 3",
   "language": "python",
   "name": "python3"
  },
  "language_info": {
   "codemirror_mode": {
    "name": "ipython",
    "version": 3
   },
   "file_extension": ".py",
   "mimetype": "text/x-python",
   "name": "python",
   "nbconvert_exporter": "python",
   "pygments_lexer": "ipython3",
   "version": "3.8.3"
  }
 },
 "nbformat": 4,
 "nbformat_minor": 4
}
